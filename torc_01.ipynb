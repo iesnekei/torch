{
  "nbformat": 4,
  "nbformat_minor": 0,
  "metadata": {
    "colab": {
      "name": "torc_01.ipynb",
      "provenance": [],
      "machine_shape": "hm"
    },
    "kernelspec": {
      "name": "python3",
      "display_name": "Python 3"
    },
    "language_info": {
      "name": "python"
    },
    "accelerator": "GPU"
  },
  "cells": [
    {
      "cell_type": "code",
      "metadata": {
        "id": "teUIa_XdoqSy"
      },
      "source": [
        "import torch\n",
        "import numpy as np"
      ],
      "execution_count": null,
      "outputs": []
    },
    {
      "cell_type": "code",
      "metadata": {
        "id": "cTUA5VjRo6JG"
      },
      "source": [
        "# Создайте случайный FloatTensor размера 3x4x5"
      ],
      "execution_count": null,
      "outputs": []
    },
    {
      "cell_type": "code",
      "metadata": {
        "colab": {
          "base_uri": "https://localhost:8080/"
        },
        "id": "8PdIWXhto8qX",
        "outputId": "2230f579-b764-4d48-ae1e-0821a29ff46a"
      },
      "source": [
        "x = torch.randn(3, 4, 5)\n",
        "x"
      ],
      "execution_count": null,
      "outputs": [
        {
          "output_type": "execute_result",
          "data": {
            "text/plain": [
              "tensor([[[-0.5636,  0.6674, -2.3822, -0.6340, -0.4562],\n",
              "         [ 0.3917, -1.4364, -1.4312,  0.8380, -0.6750],\n",
              "         [-1.0552,  0.8529, -1.5532,  0.6240,  0.5606],\n",
              "         [ 0.1905, -0.4183,  0.1350,  1.1219, -1.0545]],\n",
              "\n",
              "        [[-1.4060,  0.7498,  0.9165, -1.0740,  0.8780],\n",
              "         [-2.3830, -1.8121, -2.9622, -0.6011,  0.7147],\n",
              "         [-2.1057, -1.4655, -0.4296, -0.2848,  0.7124],\n",
              "         [ 2.3791, -0.9891, -0.3595,  0.0925, -2.0130]],\n",
              "\n",
              "        [[-0.9280,  1.5910, -0.3505,  1.9083,  2.0429],\n",
              "         [-0.5655, -0.5118, -1.5474,  2.2626,  1.5349],\n",
              "         [ 0.9573,  1.3339,  1.0019,  0.6972,  0.2836],\n",
              "         [-0.5506, -1.4062,  1.2450, -0.0488, -0.0283]]])"
            ]
          },
          "metadata": {},
          "execution_count": 45
        }
      ]
    },
    {
      "cell_type": "code",
      "metadata": {
        "colab": {
          "base_uri": "https://localhost:8080/",
          "height": 37
        },
        "id": "uSPkY0Y9pKqf",
        "outputId": "4d353c5e-be0d-4367-8e51-90dd81c27c07"
      },
      "source": [
        "x.type()"
      ],
      "execution_count": null,
      "outputs": [
        {
          "output_type": "execute_result",
          "data": {
            "application/vnd.google.colaboratory.intrinsic+json": {
              "type": "string"
            },
            "text/plain": [
              "'torch.FloatTensor'"
            ]
          },
          "metadata": {},
          "execution_count": 44
        }
      ]
    },
    {
      "cell_type": "code",
      "metadata": {
        "colab": {
          "base_uri": "https://localhost:8080/"
        },
        "id": "SzyiFc8MpMLc",
        "outputId": "7bd4a692-42a9-48ed-911e-994a2d81074a"
      },
      "source": [
        "y = torch.FloatTensor(x)\n",
        "y"
      ],
      "execution_count": null,
      "outputs": [
        {
          "output_type": "execute_result",
          "data": {
            "text/plain": [
              "tensor([[[-0.5636,  0.6674, -2.3822, -0.6340, -0.4562],\n",
              "         [ 0.3917, -1.4364, -1.4312,  0.8380, -0.6750],\n",
              "         [-1.0552,  0.8529, -1.5532,  0.6240,  0.5606],\n",
              "         [ 0.1905, -0.4183,  0.1350,  1.1219, -1.0545]],\n",
              "\n",
              "        [[-1.4060,  0.7498,  0.9165, -1.0740,  0.8780],\n",
              "         [-2.3830, -1.8121, -2.9622, -0.6011,  0.7147],\n",
              "         [-2.1057, -1.4655, -0.4296, -0.2848,  0.7124],\n",
              "         [ 2.3791, -0.9891, -0.3595,  0.0925, -2.0130]],\n",
              "\n",
              "        [[-0.9280,  1.5910, -0.3505,  1.9083,  2.0429],\n",
              "         [-0.5655, -0.5118, -1.5474,  2.2626,  1.5349],\n",
              "         [ 0.9573,  1.3339,  1.0019,  0.6972,  0.2836],\n",
              "         [-0.5506, -1.4062,  1.2450, -0.0488, -0.0283]]])"
            ]
          },
          "metadata": {},
          "execution_count": 46
        }
      ]
    },
    {
      "cell_type": "code",
      "metadata": {
        "colab": {
          "base_uri": "https://localhost:8080/",
          "height": 37
        },
        "id": "AQDog27Epiov",
        "outputId": "d299fb50-9a09-40e9-ce64-202fa114a51b"
      },
      "source": [
        "y.type()"
      ],
      "execution_count": null,
      "outputs": [
        {
          "output_type": "execute_result",
          "data": {
            "application/vnd.google.colaboratory.intrinsic+json": {
              "type": "string"
            },
            "text/plain": [
              "'torch.FloatTensor'"
            ]
          },
          "metadata": {},
          "execution_count": 47
        }
      ]
    },
    {
      "cell_type": "code",
      "metadata": {
        "id": "G1lYyrQXpzae"
      },
      "source": [
        "# Выведите его форму (shape)"
      ],
      "execution_count": null,
      "outputs": []
    },
    {
      "cell_type": "code",
      "metadata": {
        "colab": {
          "base_uri": "https://localhost:8080/"
        },
        "id": "BGn0v3oZp3_s",
        "outputId": "4243318e-5279-4701-f1f0-7da5b608f72b"
      },
      "source": [
        "x.size()"
      ],
      "execution_count": null,
      "outputs": [
        {
          "output_type": "execute_result",
          "data": {
            "text/plain": [
              "torch.Size([3, 4, 5])"
            ]
          },
          "metadata": {},
          "execution_count": 49
        }
      ]
    },
    {
      "cell_type": "code",
      "metadata": {
        "colab": {
          "base_uri": "https://localhost:8080/"
        },
        "id": "q-JjxUUcrU70",
        "outputId": "734207ac-3b54-4585-e2a3-a2ad9c003367"
      },
      "source": [
        "x.numpy().shape"
      ],
      "execution_count": null,
      "outputs": [
        {
          "output_type": "execute_result",
          "data": {
            "text/plain": [
              "(3, 4, 5)"
            ]
          },
          "metadata": {},
          "execution_count": 50
        }
      ]
    },
    {
      "cell_type": "code",
      "metadata": {
        "id": "iPL4Ia28rvF2"
      },
      "source": [
        "# Приведите его к форме 6 X 10"
      ],
      "execution_count": null,
      "outputs": []
    },
    {
      "cell_type": "code",
      "metadata": {
        "colab": {
          "base_uri": "https://localhost:8080/"
        },
        "id": "3W7070TNryMn",
        "outputId": "69199fcb-268b-4f9b-e3d1-a0bc3868d340"
      },
      "source": [
        "torch.reshape(x, (6, -1)).size()"
      ],
      "execution_count": null,
      "outputs": [
        {
          "output_type": "execute_result",
          "data": {
            "text/plain": [
              "torch.Size([6, 10])"
            ]
          },
          "metadata": {},
          "execution_count": 52
        }
      ]
    },
    {
      "cell_type": "code",
      "metadata": {
        "id": "YuhmF49qsPCt"
      },
      "source": [
        "# Умножьте его на вектор [1, 4, 2, 2, 1] поэлементно"
      ],
      "execution_count": null,
      "outputs": []
    },
    {
      "cell_type": "code",
      "metadata": {
        "id": "3FY3aMBRsT7S"
      },
      "source": [
        "y = torch.reshape(x, (6, 10))"
      ],
      "execution_count": null,
      "outputs": []
    },
    {
      "cell_type": "code",
      "metadata": {
        "colab": {
          "base_uri": "https://localhost:8080/"
        },
        "id": "BFGwwAGRxP76",
        "outputId": "2995f520-8af1-4dc2-bd87-83b0155a7138"
      },
      "source": [
        "y "
      ],
      "execution_count": null,
      "outputs": [
        {
          "output_type": "execute_result",
          "data": {
            "text/plain": [
              "tensor([[-0.5636,  0.6674, -2.3822, -0.6340, -0.4562,  0.3917, -1.4364, -1.4312,\n",
              "          0.8380, -0.6750],\n",
              "        [-1.0552,  0.8529, -1.5532,  0.6240,  0.5606,  0.1905, -0.4183,  0.1350,\n",
              "          1.1219, -1.0545],\n",
              "        [-1.4060,  0.7498,  0.9165, -1.0740,  0.8780, -2.3830, -1.8121, -2.9622,\n",
              "         -0.6011,  0.7147],\n",
              "        [-2.1057, -1.4655, -0.4296, -0.2848,  0.7124,  2.3791, -0.9891, -0.3595,\n",
              "          0.0925, -2.0130],\n",
              "        [-0.9280,  1.5910, -0.3505,  1.9083,  2.0429, -0.5655, -0.5118, -1.5474,\n",
              "          2.2626,  1.5349],\n",
              "        [ 0.9573,  1.3339,  1.0019,  0.6972,  0.2836, -0.5506, -1.4062,  1.2450,\n",
              "         -0.0488, -0.0283]])"
            ]
          },
          "metadata": {},
          "execution_count": 67
        }
      ]
    },
    {
      "cell_type": "code",
      "metadata": {
        "id": "sdxV52qQtD8S"
      },
      "source": [
        "z = torch.reshape(((torch.reshape(y, (-1, 5)) * torch.LongTensor([1, 4, 2, 2, 1]))), (6, 10))"
      ],
      "execution_count": null,
      "outputs": []
    },
    {
      "cell_type": "code",
      "metadata": {
        "colab": {
          "base_uri": "https://localhost:8080/"
        },
        "id": "PJ100NjXtteJ",
        "outputId": "ee1017fd-4db8-4266-f56a-756badce750a"
      },
      "source": [
        "z"
      ],
      "execution_count": null,
      "outputs": [
        {
          "output_type": "execute_result",
          "data": {
            "text/plain": [
              "tensor([[-0.5636,  2.6695, -4.7644, -1.2681, -0.4562,  0.3917, -5.7455, -2.8624,\n",
              "          1.6761, -0.6750],\n",
              "        [-1.0552,  3.4114, -3.1064,  1.2479,  0.5606,  0.1905, -1.6731,  0.2701,\n",
              "          2.2438, -1.0545],\n",
              "        [-1.4060,  2.9994,  1.8330, -2.1481,  0.8780, -2.3830, -7.2484, -5.9245,\n",
              "         -1.2022,  0.7147],\n",
              "        [-2.1057, -5.8620, -0.8591, -0.5697,  0.7124,  2.3791, -3.9563, -0.7190,\n",
              "          0.1849, -2.0130],\n",
              "        [-0.9280,  6.3639, -0.7009,  3.8167,  2.0429, -0.5655, -2.0473, -3.0948,\n",
              "          4.5251,  1.5349],\n",
              "        [ 0.9573,  5.3355,  2.0038,  1.3945,  0.2836, -0.5506, -5.6249,  2.4901,\n",
              "         -0.0976, -0.0283]])"
            ]
          },
          "metadata": {},
          "execution_count": 72
        }
      ]
    },
    {
      "cell_type": "code",
      "metadata": {
        "colab": {
          "base_uri": "https://localhost:8080/"
        },
        "id": "OjoJx8-0t_GL",
        "outputId": "853770e2-18c8-44f5-b925-266fa551fd05"
      },
      "source": [
        "z.size()"
      ],
      "execution_count": null,
      "outputs": [
        {
          "output_type": "execute_result",
          "data": {
            "text/plain": [
              "torch.Size([6, 10])"
            ]
          },
          "metadata": {},
          "execution_count": 73
        }
      ]
    },
    {
      "cell_type": "code",
      "metadata": {
        "id": "IewftBaBx0f6"
      },
      "source": [
        "# Умножьте тензор матрично на себя, чтобы результат был размерности 6x6"
      ],
      "execution_count": null,
      "outputs": []
    },
    {
      "cell_type": "code",
      "metadata": {
        "id": "lMib-GrDx2x_"
      },
      "source": [
        "v = z @ z.T"
      ],
      "execution_count": null,
      "outputs": []
    },
    {
      "cell_type": "code",
      "metadata": {
        "colab": {
          "base_uri": "https://localhost:8080/"
        },
        "id": "GbuG0RISx4gl",
        "outputId": "b0cbb7bd-1834-4e6f-aab8-09d1cbfc83bb"
      },
      "source": [
        "v.size()"
      ],
      "execution_count": null,
      "outputs": [
        {
          "output_type": "execute_result",
          "data": {
            "text/plain": [
              "torch.Size([6, 6])"
            ]
          },
          "metadata": {},
          "execution_count": 77
        }
      ]
    },
    {
      "cell_type": "code",
      "metadata": {
        "id": "0xHGIMNUx_B8"
      },
      "source": [
        "# Посчитайте производную функции y = x**3 + z - 75t в точке (1, 0.5, 2)"
      ],
      "execution_count": null,
      "outputs": []
    },
    {
      "cell_type": "code",
      "metadata": {
        "id": "4B1FR_sLyBHT"
      },
      "source": [
        "from torch.autograd import Variable"
      ],
      "execution_count": null,
      "outputs": []
    },
    {
      "cell_type": "code",
      "metadata": {
        "id": "gfwNh82F3gLR"
      },
      "source": [
        "x = Variable(torch.ones(3), requires_grad = True)"
      ],
      "execution_count": null,
      "outputs": []
    },
    {
      "cell_type": "code",
      "metadata": {
        "id": "TZcWByKM3t3T"
      },
      "source": [
        "z = 5 * x"
      ],
      "execution_count": null,
      "outputs": []
    },
    {
      "cell_type": "code",
      "metadata": {
        "id": "0p3aFLZG3xZS"
      },
      "source": [
        "t = 5 / x"
      ],
      "execution_count": null,
      "outputs": []
    },
    {
      "cell_type": "code",
      "metadata": {
        "id": "sH_BiaTv3z1a"
      },
      "source": [
        "y = x**3 + z - 75 * t"
      ],
      "execution_count": null,
      "outputs": []
    },
    {
      "cell_type": "code",
      "metadata": {
        "id": "_6ln8NQP32YC"
      },
      "source": [
        "y.backward(torch.tensor([1, 0.5, 2]))"
      ],
      "execution_count": null,
      "outputs": []
    },
    {
      "cell_type": "code",
      "metadata": {
        "colab": {
          "base_uri": "https://localhost:8080/"
        },
        "id": "Uff7YUS635KI",
        "outputId": "bf9bd73e-11a3-495c-faf3-2970ebec0515"
      },
      "source": [
        "print(x.grad)"
      ],
      "execution_count": null,
      "outputs": [
        {
          "output_type": "stream",
          "name": "stdout",
          "text": [
            "tensor([383.0000, 191.5000, 766.0000])\n"
          ]
        }
      ]
    },
    {
      "cell_type": "code",
      "metadata": {
        "id": "6oXNfYqG36mv"
      },
      "source": [
        "# Создайте единичный тензор размера 5x6"
      ],
      "execution_count": null,
      "outputs": []
    },
    {
      "cell_type": "code",
      "metadata": {
        "colab": {
          "base_uri": "https://localhost:8080/"
        },
        "id": "S_hvj2fw4B28",
        "outputId": "5fb13c0c-ac65-4241-8c90-b39a82de2586"
      },
      "source": [
        "x = torch.ones((5, 6))\n",
        "x"
      ],
      "execution_count": null,
      "outputs": [
        {
          "output_type": "execute_result",
          "data": {
            "text/plain": [
              "tensor([[1., 1., 1., 1., 1., 1.],\n",
              "        [1., 1., 1., 1., 1., 1.],\n",
              "        [1., 1., 1., 1., 1., 1.],\n",
              "        [1., 1., 1., 1., 1., 1.],\n",
              "        [1., 1., 1., 1., 1., 1.]])"
            ]
          },
          "metadata": {},
          "execution_count": 171
        }
      ]
    },
    {
      "cell_type": "code",
      "metadata": {
        "id": "ax27_Y9f4GCL"
      },
      "source": [
        "# Переведите его в формат numpy"
      ],
      "execution_count": null,
      "outputs": []
    },
    {
      "cell_type": "code",
      "metadata": {
        "colab": {
          "base_uri": "https://localhost:8080/"
        },
        "id": "keh9VS-E4Imp",
        "outputId": "b6d0320e-76ab-461d-b7f2-783e903fb9bc"
      },
      "source": [
        "y = x.numpy()\n",
        "y"
      ],
      "execution_count": null,
      "outputs": [
        {
          "output_type": "execute_result",
          "data": {
            "text/plain": [
              "array([[1., 1., 1., 1., 1., 1.],\n",
              "       [1., 1., 1., 1., 1., 1.],\n",
              "       [1., 1., 1., 1., 1., 1.],\n",
              "       [1., 1., 1., 1., 1., 1.],\n",
              "       [1., 1., 1., 1., 1., 1.]], dtype=float32)"
            ]
          },
          "metadata": {},
          "execution_count": 174
        }
      ]
    },
    {
      "cell_type": "code",
      "metadata": {
        "id": "YjOePnYd4OCm"
      },
      "source": [
        "# Давайте теперь пооптимизируем: возьмите функцию y = x**w1 - 2 * x**2 + 5\n",
        "# Посчитайте "
      ],
      "execution_count": null,
      "outputs": []
    },
    {
      "cell_type": "code",
      "metadata": {
        "id": "LKmuTlkz4V5k"
      },
      "source": [
        ""
      ],
      "execution_count": null,
      "outputs": []
    }
  ]
}