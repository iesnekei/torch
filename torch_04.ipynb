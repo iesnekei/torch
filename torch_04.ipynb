{
  "nbformat": 4,
  "nbformat_minor": 0,
  "metadata": {
    "colab": {
      "name": "torch_04.ipynb",
      "provenance": [],
      "machine_shape": "hm"
    },
    "kernelspec": {
      "name": "python3",
      "display_name": "Python 3"
    },
    "language_info": {
      "name": "python"
    },
    "accelerator": "GPU",
    "widgets": {
      "application/vnd.jupyter.widget-state+json": {
        "52334c00a7074d48a0bda975331b0d59": {
          "model_module": "@jupyter-widgets/controls",
          "model_name": "HBoxModel",
          "model_module_version": "1.5.0",
          "state": {
            "_view_name": "HBoxView",
            "_dom_classes": [],
            "_model_name": "HBoxModel",
            "_view_module": "@jupyter-widgets/controls",
            "_model_module_version": "1.5.0",
            "_view_count": null,
            "_view_module_version": "1.5.0",
            "box_style": "",
            "layout": "IPY_MODEL_b9600462b04646859adb69867aec5d8a",
            "_model_module": "@jupyter-widgets/controls",
            "children": [
              "IPY_MODEL_bc626afdaeaa4f6facb4ed78708640ef",
              "IPY_MODEL_837e711fcb4f47a397492611ac2fbd2f",
              "IPY_MODEL_57135916b14d4460a5c726f334fd594d"
            ]
          }
        },
        "b9600462b04646859adb69867aec5d8a": {
          "model_module": "@jupyter-widgets/base",
          "model_name": "LayoutModel",
          "model_module_version": "1.2.0",
          "state": {
            "_view_name": "LayoutView",
            "grid_template_rows": null,
            "right": null,
            "justify_content": null,
            "_view_module": "@jupyter-widgets/base",
            "overflow": null,
            "_model_module_version": "1.2.0",
            "_view_count": null,
            "flex_flow": null,
            "width": null,
            "min_width": null,
            "border": null,
            "align_items": null,
            "bottom": null,
            "_model_module": "@jupyter-widgets/base",
            "top": null,
            "grid_column": null,
            "overflow_y": null,
            "overflow_x": null,
            "grid_auto_flow": null,
            "grid_area": null,
            "grid_template_columns": null,
            "flex": null,
            "_model_name": "LayoutModel",
            "justify_items": null,
            "grid_row": null,
            "max_height": null,
            "align_content": null,
            "visibility": null,
            "align_self": null,
            "height": null,
            "min_height": null,
            "padding": null,
            "grid_auto_rows": null,
            "grid_gap": null,
            "max_width": null,
            "order": null,
            "_view_module_version": "1.2.0",
            "grid_template_areas": null,
            "object_position": null,
            "object_fit": null,
            "grid_auto_columns": null,
            "margin": null,
            "display": null,
            "left": null
          }
        },
        "bc626afdaeaa4f6facb4ed78708640ef": {
          "model_module": "@jupyter-widgets/controls",
          "model_name": "HTMLModel",
          "model_module_version": "1.5.0",
          "state": {
            "_view_name": "HTMLView",
            "style": "IPY_MODEL_35c2b6d977184508b0819d810d0e4e9a",
            "_dom_classes": [],
            "description": "",
            "_model_name": "HTMLModel",
            "placeholder": "​",
            "_view_module": "@jupyter-widgets/controls",
            "_model_module_version": "1.5.0",
            "value": "",
            "_view_count": null,
            "_view_module_version": "1.5.0",
            "description_tooltip": null,
            "_model_module": "@jupyter-widgets/controls",
            "layout": "IPY_MODEL_860ab5f9a7a7427c8da724eef405e50b"
          }
        },
        "837e711fcb4f47a397492611ac2fbd2f": {
          "model_module": "@jupyter-widgets/controls",
          "model_name": "FloatProgressModel",
          "model_module_version": "1.5.0",
          "state": {
            "_view_name": "ProgressView",
            "style": "IPY_MODEL_5ac55eaf58ca4ad49d59fe6efbe23592",
            "_dom_classes": [],
            "description": "",
            "_model_name": "FloatProgressModel",
            "bar_style": "success",
            "max": 169001437,
            "_view_module": "@jupyter-widgets/controls",
            "_model_module_version": "1.5.0",
            "value": 169001437,
            "_view_count": null,
            "_view_module_version": "1.5.0",
            "orientation": "horizontal",
            "min": 0,
            "description_tooltip": null,
            "_model_module": "@jupyter-widgets/controls",
            "layout": "IPY_MODEL_d32af82ddf8e4713a507d1b66744d1d8"
          }
        },
        "57135916b14d4460a5c726f334fd594d": {
          "model_module": "@jupyter-widgets/controls",
          "model_name": "HTMLModel",
          "model_module_version": "1.5.0",
          "state": {
            "_view_name": "HTMLView",
            "style": "IPY_MODEL_3a399ce1d3d34d35ae0fa2399ad5bb17",
            "_dom_classes": [],
            "description": "",
            "_model_name": "HTMLModel",
            "placeholder": "​",
            "_view_module": "@jupyter-widgets/controls",
            "_model_module_version": "1.5.0",
            "value": " 169001984/? [00:03&lt;00:00, 52206785.48it/s]",
            "_view_count": null,
            "_view_module_version": "1.5.0",
            "description_tooltip": null,
            "_model_module": "@jupyter-widgets/controls",
            "layout": "IPY_MODEL_ca706a89d9db48dcb07691fb216b614e"
          }
        },
        "35c2b6d977184508b0819d810d0e4e9a": {
          "model_module": "@jupyter-widgets/controls",
          "model_name": "DescriptionStyleModel",
          "model_module_version": "1.5.0",
          "state": {
            "_view_name": "StyleView",
            "_model_name": "DescriptionStyleModel",
            "description_width": "",
            "_view_module": "@jupyter-widgets/base",
            "_model_module_version": "1.5.0",
            "_view_count": null,
            "_view_module_version": "1.2.0",
            "_model_module": "@jupyter-widgets/controls"
          }
        },
        "860ab5f9a7a7427c8da724eef405e50b": {
          "model_module": "@jupyter-widgets/base",
          "model_name": "LayoutModel",
          "model_module_version": "1.2.0",
          "state": {
            "_view_name": "LayoutView",
            "grid_template_rows": null,
            "right": null,
            "justify_content": null,
            "_view_module": "@jupyter-widgets/base",
            "overflow": null,
            "_model_module_version": "1.2.0",
            "_view_count": null,
            "flex_flow": null,
            "width": null,
            "min_width": null,
            "border": null,
            "align_items": null,
            "bottom": null,
            "_model_module": "@jupyter-widgets/base",
            "top": null,
            "grid_column": null,
            "overflow_y": null,
            "overflow_x": null,
            "grid_auto_flow": null,
            "grid_area": null,
            "grid_template_columns": null,
            "flex": null,
            "_model_name": "LayoutModel",
            "justify_items": null,
            "grid_row": null,
            "max_height": null,
            "align_content": null,
            "visibility": null,
            "align_self": null,
            "height": null,
            "min_height": null,
            "padding": null,
            "grid_auto_rows": null,
            "grid_gap": null,
            "max_width": null,
            "order": null,
            "_view_module_version": "1.2.0",
            "grid_template_areas": null,
            "object_position": null,
            "object_fit": null,
            "grid_auto_columns": null,
            "margin": null,
            "display": null,
            "left": null
          }
        },
        "5ac55eaf58ca4ad49d59fe6efbe23592": {
          "model_module": "@jupyter-widgets/controls",
          "model_name": "ProgressStyleModel",
          "model_module_version": "1.5.0",
          "state": {
            "_view_name": "StyleView",
            "_model_name": "ProgressStyleModel",
            "description_width": "",
            "_view_module": "@jupyter-widgets/base",
            "_model_module_version": "1.5.0",
            "_view_count": null,
            "_view_module_version": "1.2.0",
            "bar_color": null,
            "_model_module": "@jupyter-widgets/controls"
          }
        },
        "d32af82ddf8e4713a507d1b66744d1d8": {
          "model_module": "@jupyter-widgets/base",
          "model_name": "LayoutModel",
          "model_module_version": "1.2.0",
          "state": {
            "_view_name": "LayoutView",
            "grid_template_rows": null,
            "right": null,
            "justify_content": null,
            "_view_module": "@jupyter-widgets/base",
            "overflow": null,
            "_model_module_version": "1.2.0",
            "_view_count": null,
            "flex_flow": null,
            "width": null,
            "min_width": null,
            "border": null,
            "align_items": null,
            "bottom": null,
            "_model_module": "@jupyter-widgets/base",
            "top": null,
            "grid_column": null,
            "overflow_y": null,
            "overflow_x": null,
            "grid_auto_flow": null,
            "grid_area": null,
            "grid_template_columns": null,
            "flex": null,
            "_model_name": "LayoutModel",
            "justify_items": null,
            "grid_row": null,
            "max_height": null,
            "align_content": null,
            "visibility": null,
            "align_self": null,
            "height": null,
            "min_height": null,
            "padding": null,
            "grid_auto_rows": null,
            "grid_gap": null,
            "max_width": null,
            "order": null,
            "_view_module_version": "1.2.0",
            "grid_template_areas": null,
            "object_position": null,
            "object_fit": null,
            "grid_auto_columns": null,
            "margin": null,
            "display": null,
            "left": null
          }
        },
        "3a399ce1d3d34d35ae0fa2399ad5bb17": {
          "model_module": "@jupyter-widgets/controls",
          "model_name": "DescriptionStyleModel",
          "model_module_version": "1.5.0",
          "state": {
            "_view_name": "StyleView",
            "_model_name": "DescriptionStyleModel",
            "description_width": "",
            "_view_module": "@jupyter-widgets/base",
            "_model_module_version": "1.5.0",
            "_view_count": null,
            "_view_module_version": "1.2.0",
            "_model_module": "@jupyter-widgets/controls"
          }
        },
        "ca706a89d9db48dcb07691fb216b614e": {
          "model_module": "@jupyter-widgets/base",
          "model_name": "LayoutModel",
          "model_module_version": "1.2.0",
          "state": {
            "_view_name": "LayoutView",
            "grid_template_rows": null,
            "right": null,
            "justify_content": null,
            "_view_module": "@jupyter-widgets/base",
            "overflow": null,
            "_model_module_version": "1.2.0",
            "_view_count": null,
            "flex_flow": null,
            "width": null,
            "min_width": null,
            "border": null,
            "align_items": null,
            "bottom": null,
            "_model_module": "@jupyter-widgets/base",
            "top": null,
            "grid_column": null,
            "overflow_y": null,
            "overflow_x": null,
            "grid_auto_flow": null,
            "grid_area": null,
            "grid_template_columns": null,
            "flex": null,
            "_model_name": "LayoutModel",
            "justify_items": null,
            "grid_row": null,
            "max_height": null,
            "align_content": null,
            "visibility": null,
            "align_self": null,
            "height": null,
            "min_height": null,
            "padding": null,
            "grid_auto_rows": null,
            "grid_gap": null,
            "max_width": null,
            "order": null,
            "_view_module_version": "1.2.0",
            "grid_template_areas": null,
            "object_position": null,
            "object_fit": null,
            "grid_auto_columns": null,
            "margin": null,
            "display": null,
            "left": null
          }
        }
      }
    }
  },
  "cells": [
    {
      "cell_type": "markdown",
      "metadata": {
        "id": "EXoyC4BHxXbt"
      },
      "source": [
        "# IMPORTS"
      ]
    },
    {
      "cell_type": "code",
      "metadata": {
        "id": "csW_CrQBxX7I"
      },
      "source": [
        "import torch\n",
        "import numpy as np\n",
        "\n",
        "from torch import optim\n",
        "from torch import nn\n",
        "import torchvision\n",
        "from torchvision import models\n",
        "from torchvision import transforms, datasets\n",
        "import matplotlib.pyplot as plt\n",
        "\n",
        "from sklearn.model_selection import train_test_split"
      ],
      "execution_count": 58,
      "outputs": []
    },
    {
      "cell_type": "markdown",
      "metadata": {
        "id": "RK8d2mid29jp"
      },
      "source": [
        "# FUCNTION"
      ]
    },
    {
      "cell_type": "code",
      "metadata": {
        "id": "dukbTZgj28su"
      },
      "source": [
        "def set_parameter_requires_grad(model, feature_extracting):\n",
        "    if feature_extracting:\n",
        "        for param in model.parameters():\n",
        "            param.requires_grad = False"
      ],
      "execution_count": 59,
      "outputs": []
    },
    {
      "cell_type": "code",
      "metadata": {
        "id": "RGHAvNPe5u4q"
      },
      "source": [
        "def train(dataloader, model, loss_fn, optimizer):\n",
        "    size = len(dataloader.dataset)\n",
        "    model.train()\n",
        "    for batch, (X, y) in enumerate(dataloader):\n",
        "        X, y = X.to(device), y.to(device)\n",
        "\n",
        "        # Compute prediction error\n",
        "        pred = model(X)\n",
        "        loss = loss_fn(pred, y)\n",
        "\n",
        "        # Backpropagation\n",
        "        optimizer.zero_grad()\n",
        "\n",
        "        # pred = model(X)\n",
        "        # loss = loss_fn(pred, y)\n",
        "\n",
        "        loss.backward()\n",
        "        optimizer.step()\n",
        "\n",
        "        if batch % 100 == 0:\n",
        "            loss, current = loss.item(), batch * len(X)\n",
        "            print(f\"loss: {loss:>7f}  [{current:>5d}/{size:>5d}]\")\n"
      ],
      "execution_count": 60,
      "outputs": []
    },
    {
      "cell_type": "code",
      "metadata": {
        "id": "kKZFJx-Q5wA3"
      },
      "source": [
        "def test(dataloader, model, loss_fn):\n",
        "    size = len(dataloader.dataset)\n",
        "    num_batches = len(dataloader)\n",
        "    model.eval()\n",
        "    test_loss, correct = 0, 0\n",
        "    with torch.no_grad():\n",
        "        for X, y in dataloader:\n",
        "            X, y = X.to(device), y.to(device)\n",
        "            pred = model(X)\n",
        "            test_loss += loss_fn(pred, y).item()\n",
        "            correct += (pred.argmax(1) == y).type(torch.float).sum().item()\n",
        "    test_loss /= num_batches\n",
        "    correct /= size\n",
        "    print(f\"Test Error: \\n Accuracy: {(100*correct):>0.1f}%, Avg loss: {test_loss:>8f} \\n\")"
      ],
      "execution_count": 61,
      "outputs": []
    },
    {
      "cell_type": "markdown",
      "metadata": {
        "id": "3O7lk6rbxn3A"
      },
      "source": [
        "# LOAD DATA"
      ]
    },
    {
      "cell_type": "code",
      "metadata": {
        "colab": {
          "base_uri": "https://localhost:8080/",
          "height": 84,
          "referenced_widgets": [
            "52334c00a7074d48a0bda975331b0d59",
            "b9600462b04646859adb69867aec5d8a",
            "bc626afdaeaa4f6facb4ed78708640ef",
            "837e711fcb4f47a397492611ac2fbd2f",
            "57135916b14d4460a5c726f334fd594d",
            "35c2b6d977184508b0819d810d0e4e9a",
            "860ab5f9a7a7427c8da724eef405e50b",
            "5ac55eaf58ca4ad49d59fe6efbe23592",
            "d32af82ddf8e4713a507d1b66744d1d8",
            "3a399ce1d3d34d35ae0fa2399ad5bb17",
            "ca706a89d9db48dcb07691fb216b614e"
          ]
        },
        "id": "XH_MWGZHxlf6",
        "outputId": "dd3e34f0-9797-496a-96d8-96444c1d6860"
      },
      "source": [
        "data = datasets.CIFAR100(root='data/', train=True, download=True)"
      ],
      "execution_count": 62,
      "outputs": [
        {
          "output_type": "stream",
          "name": "stdout",
          "text": [
            "Downloading https://www.cs.toronto.edu/~kriz/cifar-100-python.tar.gz to data/cifar-100-python.tar.gz\n"
          ]
        },
        {
          "output_type": "display_data",
          "data": {
            "application/vnd.jupyter.widget-view+json": {
              "model_id": "52334c00a7074d48a0bda975331b0d59",
              "version_minor": 0,
              "version_major": 2
            },
            "text/plain": [
              "  0%|          | 0/169001437 [00:00<?, ?it/s]"
            ]
          },
          "metadata": {}
        },
        {
          "output_type": "stream",
          "name": "stdout",
          "text": [
            "Extracting data/cifar-100-python.tar.gz to data/\n"
          ]
        }
      ]
    },
    {
      "cell_type": "code",
      "metadata": {
        "id": "x6u3oThPxyq4"
      },
      "source": [
        "class MyOwnCifar(torch.utils.data.Dataset):\n",
        "   \n",
        "    def __init__(self, init_dataset, transform=None):\n",
        "        self._base_dataset = init_dataset\n",
        "        self.transform = transform\n",
        "\n",
        "    def __len__(self):\n",
        "        return len(self._base_dataset)\n",
        "\n",
        "    def __getitem__(self, idx):\n",
        "        img = self._base_dataset[idx][0]\n",
        "        if self.transform is not None:\n",
        "            img = self.transform(img)\n",
        "        return img, self._base_dataset[idx][1]"
      ],
      "execution_count": 63,
      "outputs": []
    },
    {
      "cell_type": "code",
      "metadata": {
        "colab": {
          "base_uri": "https://localhost:8080/"
        },
        "id": "1dewdxfbyMnx",
        "outputId": "7676f584-c767-48f5-9717-9e3c7178c4ae"
      },
      "source": [
        "train_transformation = transforms.Compose([transforms.Scale(256),\n",
        "                                    transforms.RandomCrop(224, padding=4),\n",
        "                                    transforms.ToTensor(),\n",
        "                                    transforms.Normalize(mean=[0.485, 0.456, 0.406],\n",
        "                                                         std=[0.229, 0.224, 0.225])])\n",
        "test_transformation = transforms.Compose([transforms.ToTensor(),\n",
        "                                       transforms.Normalize(mean=[0.485, 0.456, 0.406],\n",
        "                                                         std=[0.229, 0.224, 0.225])])"
      ],
      "execution_count": 64,
      "outputs": [
        {
          "output_type": "stream",
          "name": "stderr",
          "text": [
            "/usr/local/lib/python3.7/dist-packages/torchvision/transforms/transforms.py:317: UserWarning: The use of the transforms.Scale transform is deprecated, please use transforms.Resize instead.\n",
            "  warnings.warn(\"The use of the transforms.Scale transform is deprecated, \" +\n"
          ]
        }
      ]
    },
    {
      "cell_type": "code",
      "metadata": {
        "id": "r6EvMXTr0Ed1"
      },
      "source": [
        "train_data, test_data = train_test_split(data, test_size=0.2, random_state=42)"
      ],
      "execution_count": 65,
      "outputs": []
    },
    {
      "cell_type": "code",
      "metadata": {
        "id": "8K0Q3r3i07on"
      },
      "source": [
        "train_dataset = MyOwnCifar(train_data, train_transformation)\n",
        "test_dataset = MyOwnCifar(test_data, test_transformation)"
      ],
      "execution_count": 66,
      "outputs": []
    },
    {
      "cell_type": "code",
      "metadata": {
        "id": "84b-u6jj1Lpu"
      },
      "source": [
        "train_loader = torch.utils.data.DataLoader(train_dataset,\n",
        "                          batch_size=128,\n",
        "                          shuffle=True,\n",
        "                          num_workers=3)\n",
        "test_loader = torch.utils.data.DataLoader(test_dataset,\n",
        "                          batch_size=128,\n",
        "                          shuffle=False,\n",
        "                          num_workers=1)"
      ],
      "execution_count": 67,
      "outputs": []
    },
    {
      "cell_type": "code",
      "metadata": {
        "colab": {
          "base_uri": "https://localhost:8080/"
        },
        "id": "qh8u3rct7MCo",
        "outputId": "2ed8e136-e17d-4999-b48d-3dfbb58f590f"
      },
      "source": [
        "len(train_loader)"
      ],
      "execution_count": 68,
      "outputs": [
        {
          "output_type": "execute_result",
          "data": {
            "text/plain": [
              "313"
            ]
          },
          "metadata": {},
          "execution_count": 68
        }
      ]
    },
    {
      "cell_type": "code",
      "metadata": {
        "colab": {
          "base_uri": "https://localhost:8080/"
        },
        "id": "Idk40LyKJe4-",
        "outputId": "e75bcdf3-a659-4b75-9433-f9aaae9a4c2d"
      },
      "source": [
        "len(data.classes)"
      ],
      "execution_count": 69,
      "outputs": [
        {
          "output_type": "execute_result",
          "data": {
            "text/plain": [
              "100"
            ]
          },
          "metadata": {},
          "execution_count": 69
        }
      ]
    },
    {
      "cell_type": "markdown",
      "metadata": {
        "id": "TPlM1KKf2S70"
      },
      "source": [
        "# MODEL IMAGE NET RESNET-50"
      ]
    },
    {
      "cell_type": "code",
      "metadata": {
        "id": "B1aYvlM-2SSL"
      },
      "source": [
        "resnet_50 = models.resnet50(pretrained=True)"
      ],
      "execution_count": 70,
      "outputs": []
    },
    {
      "cell_type": "code",
      "metadata": {
        "id": "nOHMaV3-1W5c"
      },
      "source": [
        "# print(resnet_50)"
      ],
      "execution_count": 71,
      "outputs": []
    },
    {
      "cell_type": "code",
      "metadata": {
        "id": "orCKJU6X2quF"
      },
      "source": [
        "normalize = transforms.Normalize(mean=[0.485, 0.456, 0.406],\n",
        "                                 std=[0.229, 0.224, 0.225])\n",
        "transform = transforms.Compose([transforms.Resize(256), transforms.CenterCrop(224), normalize, transforms.ToTensor()])"
      ],
      "execution_count": 72,
      "outputs": []
    },
    {
      "cell_type": "code",
      "metadata": {
        "id": "8KI0bspo5Wdc"
      },
      "source": [
        "set_parameter_requires_grad(resnet_50, True)\n",
        "resnet_50.fc = nn.Linear(2048, 100)"
      ],
      "execution_count": 73,
      "outputs": []
    },
    {
      "cell_type": "code",
      "metadata": {
        "colab": {
          "base_uri": "https://localhost:8080/"
        },
        "id": "GNpcn1C_233Q",
        "outputId": "41f2d1a4-08f8-4ef5-cc8a-59d96be71047"
      },
      "source": [
        "params_to_update = []\n",
        "for name,param in resnet_50.named_parameters():\n",
        "    if param.requires_grad == True:\n",
        "        params_to_update.append(param)\n",
        "params_to_update"
      ],
      "execution_count": 74,
      "outputs": [
        {
          "output_type": "execute_result",
          "data": {
            "text/plain": [
              "[Parameter containing:\n",
              " tensor([[ 1.0054e-02,  1.7657e-02, -7.3866e-03,  ...,  1.2985e-02,\n",
              "           1.3848e-02, -1.4724e-02],\n",
              "         [ 5.7044e-03,  1.6053e-02,  1.4516e-02,  ..., -1.3363e-02,\n",
              "          -1.5792e-02,  1.2163e-03],\n",
              "         [-5.8635e-03,  1.4690e-02, -1.5707e-02,  ...,  1.1557e-02,\n",
              "          -2.1486e-02, -8.3654e-03],\n",
              "         ...,\n",
              "         [-1.6615e-02,  2.0777e-03,  2.3646e-03,  ...,  2.1150e-02,\n",
              "          -1.3322e-02,  2.0975e-02],\n",
              "         [ 1.5447e-02,  1.1661e-02, -1.7927e-02,  ...,  6.8346e-03,\n",
              "          -5.8035e-03,  1.8554e-03],\n",
              "         [-1.7938e-02,  1.0598e-02, -5.6472e-05,  ...,  1.9498e-02,\n",
              "           1.5902e-02,  1.4927e-02]], requires_grad=True),\n",
              " Parameter containing:\n",
              " tensor([ 3.0742e-03, -2.1665e-02,  4.4363e-03, -5.6386e-03,  1.8457e-02,\n",
              "          1.8140e-02,  1.5991e-02,  1.7118e-03, -2.0553e-02,  1.5676e-02,\n",
              "          5.8898e-03,  3.7888e-03, -9.5141e-03,  2.1446e-02,  5.6334e-03,\n",
              "          6.4768e-03, -2.1551e-02, -1.8960e-02,  1.8724e-02, -1.0091e-03,\n",
              "         -1.6824e-02,  4.4036e-03,  2.1638e-02, -7.7956e-05,  1.2064e-02,\n",
              "         -3.4762e-03,  2.2072e-02,  1.4298e-02,  5.5798e-03,  1.1136e-02,\n",
              "          5.7403e-03, -9.0362e-03, -1.1139e-03, -7.6614e-03, -6.5035e-03,\n",
              "          1.3518e-02, -6.9613e-04, -2.0517e-02, -1.3335e-02, -1.6770e-02,\n",
              "         -5.7468e-03, -2.1092e-02, -5.5676e-03,  1.8654e-02, -1.1624e-02,\n",
              "         -7.6238e-03, -8.0793e-03,  1.0053e-02, -8.5046e-03, -2.3296e-03,\n",
              "          1.5006e-02,  1.1365e-02, -1.0498e-02,  1.8256e-02, -1.2396e-02,\n",
              "          1.4029e-02,  1.7631e-05,  8.4125e-03, -1.6636e-02, -4.0972e-03,\n",
              "         -3.9405e-03, -8.6213e-03, -8.7662e-03,  1.1054e-02,  9.7651e-04,\n",
              "         -1.0696e-02,  5.1757e-03,  2.1721e-02,  1.9741e-03, -4.7473e-03,\n",
              "          1.5976e-02,  1.9666e-02,  4.4149e-03,  1.4894e-02, -5.1818e-03,\n",
              "          1.4541e-02,  9.3028e-04,  7.1950e-03, -1.1665e-02, -1.8731e-02,\n",
              "         -2.0196e-02,  1.6490e-02,  7.4932e-03,  1.6614e-02, -2.0369e-02,\n",
              "         -4.1929e-03, -9.1116e-03,  2.0202e-03,  6.8011e-03,  1.8322e-02,\n",
              "          2.1240e-03,  1.7340e-02, -6.4767e-03, -6.1850e-03,  1.5711e-02,\n",
              "          1.6602e-02, -1.0414e-03,  5.0294e-04,  4.7913e-03,  1.4624e-02],\n",
              "        requires_grad=True)]"
            ]
          },
          "metadata": {},
          "execution_count": 74
        }
      ]
    },
    {
      "cell_type": "markdown",
      "metadata": {
        "id": "4y0qlack5lxV"
      },
      "source": [
        "# RES NET 50 TRAINING AND VALIDATION"
      ]
    },
    {
      "cell_type": "code",
      "metadata": {
        "colab": {
          "base_uri": "https://localhost:8080/"
        },
        "id": "fogegKPT59wJ",
        "outputId": "67798a70-6736-4f09-9569-efc32d1a3545"
      },
      "source": [
        "use_cuda = torch.cuda.is_available()\n",
        "\n",
        "device = torch.device(\"cuda:0\" if use_cuda else \"cpu\")\n",
        "print(device)"
      ],
      "execution_count": 75,
      "outputs": [
        {
          "output_type": "stream",
          "name": "stdout",
          "text": [
            "cuda:0\n"
          ]
        }
      ]
    },
    {
      "cell_type": "code",
      "metadata": {
        "id": "Hz7z6CKl6GuH"
      },
      "source": [
        "optimizer = torch.optim.Adam(params_to_update, lr=0.001)\n",
        "loss_fn = nn.CrossEntropyLoss()"
      ],
      "execution_count": 76,
      "outputs": []
    },
    {
      "cell_type": "code",
      "metadata": {
        "id": "Ac_8FRII6a1i"
      },
      "source": [
        "resnet_50 = resnet_50.cuda() if use_cuda else resnet_50"
      ],
      "execution_count": 77,
      "outputs": []
    },
    {
      "cell_type": "code",
      "metadata": {
        "colab": {
          "base_uri": "https://localhost:8080/"
        },
        "id": "jo9SwkkE4-_s",
        "outputId": "b1b14521-622b-4d76-9694-8bbd96601933"
      },
      "source": [
        "epochs = 20\n",
        "for t in range(epochs):\n",
        "    print(f\"Epoch {t+1}\\-------------------------------\")\n",
        "    train(train_loader, resnet_50, loss_fn, optimizer)\n",
        "    test(test_loader, resnet_50, loss_fn)\n",
        "print(\"Done!\")"
      ],
      "execution_count": 78,
      "outputs": [
        {
          "output_type": "stream",
          "name": "stdout",
          "text": [
            "Epoch 1\\-------------------------------\n",
            "loss: 4.648887  [    0/40000]\n",
            "loss: 2.623889  [12800/40000]\n",
            "loss: 2.059295  [25600/40000]\n",
            "loss: 2.047357  [38400/40000]\n",
            "Test Error: \n",
            " Accuracy: 5.3%, Avg loss: 11.495063 \n",
            "\n",
            "Epoch 2\\-------------------------------\n",
            "loss: 1.822363  [    0/40000]\n",
            "loss: 1.704209  [12800/40000]\n",
            "loss: 1.714680  [25600/40000]\n",
            "loss: 1.624888  [38400/40000]\n",
            "Test Error: \n",
            " Accuracy: 5.3%, Avg loss: 14.282084 \n",
            "\n",
            "Epoch 3\\-------------------------------\n",
            "loss: 1.561022  [    0/40000]\n",
            "loss: 1.586663  [12800/40000]\n",
            "loss: 1.507993  [25600/40000]\n",
            "loss: 1.769714  [38400/40000]\n",
            "Test Error: \n",
            " Accuracy: 4.5%, Avg loss: 16.311964 \n",
            "\n",
            "Epoch 4\\-------------------------------\n",
            "loss: 1.478402  [    0/40000]\n",
            "loss: 1.379386  [12800/40000]\n",
            "loss: 1.666318  [25600/40000]\n",
            "loss: 1.714959  [38400/40000]\n",
            "Test Error: \n",
            " Accuracy: 4.7%, Avg loss: 16.439056 \n",
            "\n",
            "Epoch 5\\-------------------------------\n",
            "loss: 1.772768  [    0/40000]\n",
            "loss: 1.633940  [12800/40000]\n",
            "loss: 1.228964  [25600/40000]\n",
            "loss: 1.569689  [38400/40000]\n",
            "Test Error: \n",
            " Accuracy: 5.1%, Avg loss: 17.236794 \n",
            "\n",
            "Epoch 6\\-------------------------------\n",
            "loss: 1.427598  [    0/40000]\n",
            "loss: 1.191034  [12800/40000]\n",
            "loss: 1.434718  [25600/40000]\n",
            "loss: 1.534197  [38400/40000]\n",
            "Test Error: \n",
            " Accuracy: 5.1%, Avg loss: 17.760844 \n",
            "\n",
            "Epoch 7\\-------------------------------\n",
            "loss: 1.394006  [    0/40000]\n",
            "loss: 1.359021  [12800/40000]\n",
            "loss: 1.455260  [25600/40000]\n",
            "loss: 1.430277  [38400/40000]\n",
            "Test Error: \n",
            " Accuracy: 5.3%, Avg loss: 17.572953 \n",
            "\n",
            "Epoch 8\\-------------------------------\n",
            "loss: 1.655307  [    0/40000]\n",
            "loss: 1.217728  [12800/40000]\n",
            "loss: 1.456046  [25600/40000]\n",
            "loss: 1.234428  [38400/40000]\n",
            "Test Error: \n",
            " Accuracy: 5.2%, Avg loss: 18.655998 \n",
            "\n",
            "Epoch 9\\-------------------------------\n",
            "loss: 1.543780  [    0/40000]\n",
            "loss: 1.325340  [12800/40000]\n",
            "loss: 1.184447  [25600/40000]\n",
            "loss: 1.237173  [38400/40000]\n",
            "Test Error: \n",
            " Accuracy: 5.4%, Avg loss: 17.799107 \n",
            "\n",
            "Epoch 10\\-------------------------------\n",
            "loss: 1.149705  [    0/40000]\n",
            "loss: 1.223844  [12800/40000]\n",
            "loss: 1.324710  [25600/40000]\n",
            "loss: 1.293754  [38400/40000]\n",
            "Test Error: \n",
            " Accuracy: 5.3%, Avg loss: 19.620967 \n",
            "\n",
            "Epoch 11\\-------------------------------\n",
            "loss: 1.289961  [    0/40000]\n",
            "loss: 1.325269  [12800/40000]\n",
            "loss: 1.267762  [25600/40000]\n",
            "loss: 1.363413  [38400/40000]\n",
            "Test Error: \n",
            " Accuracy: 5.3%, Avg loss: 19.327919 \n",
            "\n",
            "Epoch 12\\-------------------------------\n",
            "loss: 1.295110  [    0/40000]\n",
            "loss: 1.230165  [12800/40000]\n",
            "loss: 1.458712  [25600/40000]\n",
            "loss: 1.408163  [38400/40000]\n",
            "Test Error: \n",
            " Accuracy: 4.8%, Avg loss: 21.663670 \n",
            "\n",
            "Epoch 13\\-------------------------------\n",
            "loss: 1.175153  [    0/40000]\n",
            "loss: 1.236845  [12800/40000]\n",
            "loss: 1.167750  [25600/40000]\n",
            "loss: 1.413621  [38400/40000]\n",
            "Test Error: \n",
            " Accuracy: 5.0%, Avg loss: 20.156072 \n",
            "\n",
            "Epoch 14\\-------------------------------\n",
            "loss: 1.222456  [    0/40000]\n",
            "loss: 1.251022  [12800/40000]\n",
            "loss: 1.342246  [25600/40000]\n",
            "loss: 1.393713  [38400/40000]\n",
            "Test Error: \n",
            " Accuracy: 4.6%, Avg loss: 22.089788 \n",
            "\n",
            "Epoch 15\\-------------------------------\n",
            "loss: 1.263807  [    0/40000]\n",
            "loss: 1.180759  [12800/40000]\n",
            "loss: 1.099840  [25600/40000]\n",
            "loss: 1.558973  [38400/40000]\n",
            "Test Error: \n",
            " Accuracy: 4.8%, Avg loss: 20.971835 \n",
            "\n",
            "Epoch 16\\-------------------------------\n",
            "loss: 1.400007  [    0/40000]\n",
            "loss: 1.170388  [12800/40000]\n",
            "loss: 1.252520  [25600/40000]\n",
            "loss: 1.320491  [38400/40000]\n",
            "Test Error: \n",
            " Accuracy: 4.6%, Avg loss: 21.880765 \n",
            "\n",
            "Epoch 17\\-------------------------------\n",
            "loss: 1.096049  [    0/40000]\n",
            "loss: 1.448544  [12800/40000]\n",
            "loss: 1.063784  [25600/40000]\n",
            "loss: 1.236697  [38400/40000]\n",
            "Test Error: \n",
            " Accuracy: 4.7%, Avg loss: 22.111113 \n",
            "\n",
            "Epoch 18\\-------------------------------\n",
            "loss: 1.143882  [    0/40000]\n",
            "loss: 1.578827  [12800/40000]\n",
            "loss: 1.435010  [25600/40000]\n",
            "loss: 1.321696  [38400/40000]\n",
            "Test Error: \n",
            " Accuracy: 4.7%, Avg loss: 22.112495 \n",
            "\n",
            "Epoch 19\\-------------------------------\n",
            "loss: 1.140493  [    0/40000]\n",
            "loss: 1.238310  [12800/40000]\n",
            "loss: 1.198443  [25600/40000]\n",
            "loss: 1.199149  [38400/40000]\n",
            "Test Error: \n",
            " Accuracy: 4.8%, Avg loss: 20.828316 \n",
            "\n",
            "Epoch 20\\-------------------------------\n",
            "loss: 1.143377  [    0/40000]\n",
            "loss: 1.230566  [12800/40000]\n",
            "loss: 1.069801  [25600/40000]\n",
            "loss: 1.326312  [38400/40000]\n",
            "Test Error: \n",
            " Accuracy: 4.7%, Avg loss: 21.537199 \n",
            "\n",
            "Done!\n"
          ]
        }
      ]
    },
    {
      "cell_type": "markdown",
      "metadata": {
        "id": "79DqkpeCH-n9"
      },
      "source": [
        "# DATA WITH AUGMENTATION "
      ]
    },
    {
      "cell_type": "code",
      "metadata": {
        "id": "yuxicMZI8OHP"
      },
      "source": [
        "train_transformation = transforms.Compose([ \n",
        "                                    transforms.Resize(256),\n",
        "                                    transforms.RandomCrop(224, padding=4),\n",
        "                                     # Augmentation\n",
        "                                    transforms.RandomHorizontalFlip(p=0.5),\n",
        "                                    transforms.RandomVerticalFlip(p=0.5),\n",
        "                                    transforms.ToTensor(),\n",
        "                                    transforms.Normalize(mean=[0.485, 0.456, 0.406],\n",
        "                                                         std=[0.229, 0.224, 0.225])\n",
        "                                    ])\n",
        "test_transformation = transforms.Compose([\n",
        "                                        transforms.ToTensor(),\n",
        "                                       transforms.Normalize(mean=[0.485, 0.456, 0.406],\n",
        "                                                         std=[0.229, 0.224, 0.225])\n",
        "                                       ])"
      ],
      "execution_count": 92,
      "outputs": []
    },
    {
      "cell_type": "code",
      "metadata": {
        "id": "pobNW_45IUCM"
      },
      "source": [
        "train_dataset_1 = MyOwnCifar(train_data, train_transformation)\n",
        "test_dataset = MyOwnCifar(test_data, test_transformation)"
      ],
      "execution_count": 93,
      "outputs": []
    },
    {
      "cell_type": "code",
      "metadata": {
        "id": "1OQ2k6rFQUSf"
      },
      "source": [
        "big_train = torch.utils.data.ConcatDataset([train_dataset, train_dataset_1])"
      ],
      "execution_count": 94,
      "outputs": []
    },
    {
      "cell_type": "code",
      "metadata": {
        "id": "LdsN8wk9Ia1l"
      },
      "source": [
        "big_train_loader = torch.utils.data.DataLoader(big_train,\n",
        "                          batch_size=128,\n",
        "                          shuffle=True,\n",
        "                          num_workers=3)\n",
        "test_loader = torch.utils.data.DataLoader(test_dataset,\n",
        "                          batch_size=128,\n",
        "                          shuffle=False,\n",
        "                          num_workers=1)"
      ],
      "execution_count": 95,
      "outputs": []
    },
    {
      "cell_type": "code",
      "metadata": {
        "colab": {
          "base_uri": "https://localhost:8080/"
        },
        "id": "p3YkxQPKJBgL",
        "outputId": "3767b82e-0240-4a44-bf78-7289963a5d0d"
      },
      "source": [
        "len(data.classes)"
      ],
      "execution_count": 96,
      "outputs": [
        {
          "output_type": "execute_result",
          "data": {
            "text/plain": [
              "100"
            ]
          },
          "metadata": {},
          "execution_count": 96
        }
      ]
    },
    {
      "cell_type": "code",
      "metadata": {
        "id": "lYyzcOz5Iq7A"
      },
      "source": [
        "model = models.resnet50(pretrained=True)\n",
        "\n",
        "set_parameter_requires_grad(model, True)"
      ],
      "execution_count": 97,
      "outputs": []
    },
    {
      "cell_type": "code",
      "metadata": {
        "id": "p-KX2v9XI6r6"
      },
      "source": [
        "model = model.cuda() if use_cuda else model\n",
        "    \n",
        "\n",
        "model.fc = torch.nn.Linear(2048, 1024)\n",
        "model.fc = nn.Sequential(\n",
        "    torch.nn.Dropout(0.5),\n",
        "    torch.nn.Linear(num_ftrs, 1024),\n",
        "    torch.nn.Dropout(0.2),\n",
        "    torch.nn.Linear(1024, 512),\n",
        "    torch.nn.Dropout(0.2),\n",
        "    torch.nn.Linear(512, 256),\n",
        "    torch.nn.Dropout(0.2),\n",
        "    torch.nn.Linear(256, 128),\n",
        "    torch.nn.Dropout(0.2),\n",
        "    torch.nn.Linear(128, len(data.classes))\n",
        ")\n",
        "\n",
        "model.fc = model.fc.cuda() if use_cuda else model.fc\n",
        "\n",
        "criterion = nn.CrossEntropyLoss()\n",
        "optimizer = optim.SGD(model.parameters(), lr=1e-2, momentum=0.9, weight_decay=5e-4)"
      ],
      "execution_count": 102,
      "outputs": []
    },
    {
      "cell_type": "code",
      "metadata": {
        "colab": {
          "base_uri": "https://localhost:8080/"
        },
        "id": "TGDNIZXfRU7R",
        "outputId": "33302f1e-721b-4927-c726-931224e5c83f"
      },
      "source": [
        "params_to_update = []\n",
        "for name,param in model.named_parameters():\n",
        "    if param.requires_grad == True:\n",
        "        params_to_update.append(param)\n",
        "params_to_update"
      ],
      "execution_count": 103,
      "outputs": [
        {
          "output_type": "execute_result",
          "data": {
            "text/plain": [
              "[Parameter containing:\n",
              " tensor([[ 0.0024, -0.0044,  0.0054,  ...,  0.0119, -0.0183, -0.0098],\n",
              "         [ 0.0086,  0.0173, -0.0199,  ..., -0.0137,  0.0153,  0.0071],\n",
              "         [-0.0205, -0.0035,  0.0099,  ...,  0.0085,  0.0214, -0.0206],\n",
              "         ...,\n",
              "         [ 0.0005,  0.0216,  0.0119,  ..., -0.0185,  0.0143, -0.0197],\n",
              "         [ 0.0039,  0.0133,  0.0146,  ..., -0.0215,  0.0138,  0.0082],\n",
              "         [-0.0087, -0.0082,  0.0148,  ..., -0.0093, -0.0160, -0.0195]],\n",
              "        device='cuda:0', requires_grad=True), Parameter containing:\n",
              " tensor([ 0.0214, -0.0190,  0.0081,  ...,  0.0141,  0.0087,  0.0163],\n",
              "        device='cuda:0', requires_grad=True), Parameter containing:\n",
              " tensor([[ 0.0298, -0.0158, -0.0018,  ..., -0.0002,  0.0073, -0.0087],\n",
              "         [ 0.0312,  0.0304, -0.0059,  ...,  0.0132,  0.0004,  0.0160],\n",
              "         [-0.0061, -0.0268, -0.0196,  ...,  0.0051, -0.0305,  0.0149],\n",
              "         ...,\n",
              "         [-0.0187,  0.0158, -0.0068,  ..., -0.0047, -0.0224, -0.0086],\n",
              "         [-0.0132,  0.0265, -0.0286,  ...,  0.0183,  0.0287,  0.0116],\n",
              "         [ 0.0201, -0.0010,  0.0071,  ..., -0.0070,  0.0149, -0.0084]],\n",
              "        device='cuda:0', requires_grad=True), Parameter containing:\n",
              " tensor([-1.5321e-02, -1.3904e-02,  2.6435e-02, -1.2451e-02,  9.1772e-03,\n",
              "          8.3044e-03,  1.7883e-02, -1.1596e-02,  1.4589e-02, -1.8133e-02,\n",
              "         -5.4091e-03,  2.5759e-02, -4.4466e-03,  1.4992e-02,  1.3756e-02,\n",
              "          2.9603e-02,  1.3896e-02,  2.2320e-02, -7.2273e-03, -1.6738e-02,\n",
              "          3.8651e-03, -9.9492e-04, -1.1344e-02, -1.3892e-02, -8.6893e-03,\n",
              "         -7.4896e-03,  5.1435e-03, -2.4810e-02,  2.4983e-02, -2.7644e-02,\n",
              "         -3.0306e-02,  2.3661e-02,  6.0055e-03,  6.8301e-03,  7.1520e-03,\n",
              "          2.8039e-02, -2.3484e-02,  1.4045e-02, -1.2496e-02, -4.0168e-04,\n",
              "         -3.0463e-02, -1.4362e-02, -2.8863e-03,  2.2331e-02, -1.7152e-02,\n",
              "         -1.7615e-02,  1.9598e-03, -2.8518e-02, -2.7248e-02, -1.4272e-02,\n",
              "         -1.7253e-02, -2.7021e-02,  2.5435e-03,  3.8857e-03, -1.9848e-02,\n",
              "          1.6967e-02,  2.7514e-02, -5.2230e-03, -1.8118e-02,  2.4168e-02,\n",
              "         -7.8005e-03,  2.9374e-02,  1.3864e-03,  8.8822e-03, -2.3852e-02,\n",
              "          2.3832e-02, -3.0014e-02,  1.6733e-02,  1.3443e-02, -1.8074e-02,\n",
              "         -1.8362e-02, -2.8401e-02,  2.3015e-02, -1.2976e-02,  2.1958e-02,\n",
              "          1.5447e-02,  2.8957e-02, -4.6479e-03, -2.3072e-02, -7.0505e-03,\n",
              "         -2.8422e-02,  2.8463e-02,  2.2637e-02,  3.0332e-02, -2.2137e-02,\n",
              "          2.3812e-02,  9.0689e-03,  2.8507e-02,  2.0254e-02,  1.1300e-02,\n",
              "         -2.0069e-02,  1.5223e-02, -1.8823e-02,  3.3553e-03, -1.9249e-02,\n",
              "         -1.0722e-02,  3.0338e-02,  2.2116e-02, -9.5812e-03, -1.4820e-02,\n",
              "          5.2991e-03,  1.8210e-02,  1.7013e-02, -2.3168e-02,  1.9396e-02,\n",
              "          3.0074e-02, -2.1874e-02, -2.1568e-02,  2.5464e-02, -2.4693e-02,\n",
              "          7.0933e-03, -1.4102e-02, -1.4152e-02,  2.8319e-02, -2.7396e-02,\n",
              "         -3.0508e-02, -2.9450e-02, -1.0046e-02,  1.2902e-02,  2.9906e-02,\n",
              "          2.0409e-02,  2.7863e-02,  9.6075e-03, -9.0094e-03,  1.1663e-02,\n",
              "         -1.7364e-02, -3.0122e-02,  2.0337e-02,  1.9736e-03,  1.0831e-02,\n",
              "         -2.4366e-02, -2.3784e-02, -3.0809e-02,  2.7783e-02,  1.5735e-02,\n",
              "          2.8418e-02, -1.5224e-02,  1.1018e-02,  7.7236e-04, -4.1896e-03,\n",
              "         -2.4110e-03,  1.4853e-02, -1.4357e-02,  3.0196e-03,  2.5590e-03,\n",
              "          2.3788e-02,  2.2291e-02, -1.0737e-02,  8.5433e-03, -1.6120e-02,\n",
              "          2.1308e-02,  2.1941e-02, -6.4916e-03,  7.8646e-03,  3.8694e-03,\n",
              "         -3.7444e-03,  2.6971e-02,  9.4474e-03, -2.0691e-02, -4.3395e-03,\n",
              "         -2.8572e-02,  1.4998e-02, -2.4941e-02,  1.2056e-02,  2.1416e-02,\n",
              "         -8.3530e-03, -5.5707e-03, -2.5663e-02,  3.0216e-02, -2.8490e-02,\n",
              "         -1.7816e-02, -2.7027e-02,  2.7615e-02,  2.4117e-02,  2.0242e-02,\n",
              "         -1.3742e-02,  2.4753e-02, -1.6725e-02, -2.0077e-02,  4.8335e-03,\n",
              "         -1.8587e-04,  8.3068e-03, -2.3534e-02, -3.2696e-03,  1.2804e-03,\n",
              "         -2.8382e-02, -1.2056e-02, -1.9291e-02,  1.7591e-02, -1.8291e-02,\n",
              "          1.3591e-02, -1.4619e-02, -8.9670e-03, -2.8338e-02,  7.5293e-03,\n",
              "          1.7886e-02,  5.1343e-03,  3.0451e-02, -2.7684e-02,  9.5746e-03,\n",
              "         -2.2189e-03, -2.8481e-02, -1.3150e-02, -1.6006e-02,  1.1964e-02,\n",
              "          2.5018e-02,  2.8021e-02, -8.2780e-03,  8.9880e-04, -1.5981e-02,\n",
              "         -1.5909e-02, -2.8730e-02,  2.5380e-02,  1.4382e-02,  2.4862e-02,\n",
              "          1.6949e-03,  2.3679e-02,  1.9584e-02, -8.2179e-03,  2.1859e-02,\n",
              "         -2.1450e-02, -1.5402e-02,  8.0005e-03,  5.8459e-03,  2.3599e-03,\n",
              "          1.2907e-02,  2.8802e-02, -1.8633e-02, -1.6284e-02, -7.2798e-03,\n",
              "         -2.6577e-02, -7.8841e-04,  1.0428e-02,  5.4490e-03,  3.1114e-02,\n",
              "          1.6631e-02,  1.4728e-02,  7.2508e-03, -3.0432e-02,  2.8744e-02,\n",
              "          2.0705e-02, -8.4471e-03, -2.7643e-02, -1.3352e-02, -8.9402e-03,\n",
              "          2.6209e-02,  1.2312e-02, -1.0412e-02,  2.6840e-02, -1.9816e-02,\n",
              "          2.3032e-02, -1.6066e-04,  2.7697e-03, -8.9756e-03,  1.3304e-02,\n",
              "         -8.6110e-03, -1.4769e-02,  1.4511e-02,  2.5692e-03, -1.6018e-02,\n",
              "         -2.8457e-02, -1.4943e-02,  2.9020e-02, -5.7868e-04,  1.1181e-02,\n",
              "          1.6017e-02,  1.1248e-02,  2.8829e-02,  2.6469e-03,  2.2102e-02,\n",
              "          1.6460e-02,  3.1561e-03,  6.5230e-04, -8.1916e-03, -2.4921e-02,\n",
              "          1.4494e-02, -1.4396e-02, -6.3356e-03, -6.6334e-04, -1.5446e-02,\n",
              "          1.4578e-02,  1.3301e-02, -6.5606e-03, -9.6382e-03,  7.7758e-03,\n",
              "          5.1308e-03, -2.7421e-02, -2.7152e-03, -2.6285e-02, -7.4344e-03,\n",
              "          2.4271e-02, -4.4942e-03,  5.9878e-03,  1.2645e-02, -1.7996e-02,\n",
              "         -1.3312e-02,  2.0548e-02, -2.5063e-02, -2.5299e-02,  1.8034e-02,\n",
              "         -3.1316e-03,  2.1335e-02, -1.2721e-02,  2.6039e-02,  1.6967e-02,\n",
              "         -2.8074e-03, -2.2546e-02,  2.2241e-02,  1.8416e-02, -1.1723e-02,\n",
              "          1.8950e-02,  1.6448e-02,  3.0456e-02, -1.8272e-02, -9.0631e-03,\n",
              "         -2.7061e-02,  2.6108e-02,  2.5235e-02, -2.4059e-02, -3.4613e-03,\n",
              "          2.5747e-02, -1.0952e-03,  3.1934e-03,  2.0691e-02, -6.6485e-03,\n",
              "         -1.0660e-02, -9.6999e-03,  2.2625e-02,  1.8568e-02,  2.8786e-02,\n",
              "         -2.2890e-02,  3.3187e-03, -5.1018e-03, -2.7506e-02, -1.2663e-04,\n",
              "         -5.0584e-03, -3.0107e-02,  9.8120e-03, -1.9798e-02,  2.6045e-02,\n",
              "          2.9469e-02,  1.3760e-02,  4.5225e-03, -2.9851e-02,  1.4665e-02,\n",
              "         -1.3058e-02, -1.2169e-02, -2.8493e-02, -9.0809e-03,  5.1021e-03,\n",
              "         -2.5576e-02, -4.1315e-03, -1.5299e-03,  2.3437e-03, -7.9603e-03,\n",
              "         -2.9908e-03,  3.0796e-02,  2.8547e-02, -1.3939e-02,  2.5610e-03,\n",
              "          1.1150e-03, -1.7535e-02,  1.4516e-02,  2.6297e-02,  2.7979e-02,\n",
              "         -2.0895e-02, -2.4970e-02, -2.1667e-02, -1.3153e-02, -3.1047e-02,\n",
              "         -2.5246e-02,  2.9337e-02, -2.7582e-02, -1.8976e-02, -3.0260e-02,\n",
              "          2.7058e-02,  1.1725e-02, -1.0943e-02,  1.0113e-02,  2.9255e-02,\n",
              "         -9.0662e-04, -1.2298e-02, -2.6103e-02,  2.3647e-02,  8.5088e-03,\n",
              "          1.9215e-02,  2.3947e-02,  2.4500e-02,  2.4244e-02,  1.1384e-02,\n",
              "          2.5587e-02,  2.1143e-02, -1.4058e-02,  1.9672e-02,  1.2509e-02,\n",
              "          1.9032e-02, -2.8655e-02,  3.0597e-03,  3.0149e-02,  6.0810e-03,\n",
              "         -2.8219e-02, -2.5910e-02, -6.1400e-03,  2.4135e-02, -2.1589e-02,\n",
              "         -1.2593e-02,  9.9300e-03,  1.5991e-02,  2.9863e-02, -1.8387e-02,\n",
              "          1.9170e-02, -1.1298e-02,  2.0280e-02, -9.8517e-03, -1.3288e-02,\n",
              "         -5.4002e-03,  2.7909e-02,  8.6695e-03,  9.9264e-03, -2.0399e-02,\n",
              "          8.2629e-03, -2.0084e-02, -6.4604e-03,  2.4714e-02,  2.3259e-02,\n",
              "          2.0486e-02,  4.0581e-03, -2.4986e-02, -1.3405e-02, -2.5376e-02,\n",
              "          8.8901e-04, -2.3631e-03, -2.6285e-03, -3.1070e-02, -1.0649e-02,\n",
              "          1.9644e-02, -4.5195e-03, -7.5136e-03, -4.9439e-03, -2.9297e-02,\n",
              "          2.1136e-02,  2.5696e-02, -5.1314e-03, -8.1530e-03,  1.5056e-02,\n",
              "         -1.3889e-02, -2.4999e-04,  1.2778e-02,  2.1947e-02,  2.2248e-02,\n",
              "          2.7322e-02, -1.8034e-02,  1.7232e-02,  2.6077e-02,  8.2537e-03,\n",
              "          3.0305e-02, -3.0627e-02,  1.3592e-02,  2.7370e-02, -7.5940e-03,\n",
              "         -1.3219e-02, -2.8341e-02, -1.8202e-02,  2.4750e-02,  2.7368e-02,\n",
              "         -1.3723e-02, -2.8218e-02, -1.3241e-02, -5.1677e-04,  2.1292e-03,\n",
              "         -8.9067e-03, -2.3426e-02, -2.5943e-02, -1.7712e-02,  1.6335e-02,\n",
              "          1.5121e-02, -1.2017e-02,  1.2323e-02,  3.9110e-03,  1.5879e-02,\n",
              "          2.6802e-02,  2.3188e-02, -2.4061e-02, -1.4920e-02,  2.6233e-02,\n",
              "          2.0989e-02, -7.7139e-03,  1.2205e-02, -2.6788e-02,  1.6281e-02,\n",
              "         -8.6215e-04, -7.6625e-03, -2.1543e-05,  6.3394e-03,  7.1096e-03,\n",
              "         -2.9092e-02,  2.0430e-02, -6.9749e-03,  2.9880e-02, -1.0750e-02,\n",
              "          2.2828e-02, -2.2233e-02, -1.6963e-02, -3.0428e-02, -2.3417e-02,\n",
              "         -2.7113e-02, -1.2243e-02, -1.9200e-02, -1.7697e-02, -4.5281e-03,\n",
              "          8.9452e-03, -2.1381e-02], device='cuda:0', requires_grad=True), Parameter containing:\n",
              " tensor([[-0.0235,  0.0429, -0.0125,  ...,  0.0085, -0.0294,  0.0076],\n",
              "         [ 0.0229,  0.0077,  0.0152,  ..., -0.0325,  0.0423, -0.0390],\n",
              "         [-0.0032, -0.0159, -0.0291,  ..., -0.0082, -0.0194,  0.0227],\n",
              "         ...,\n",
              "         [-0.0288, -0.0419, -0.0232,  ..., -0.0265, -0.0354, -0.0184],\n",
              "         [ 0.0242, -0.0088,  0.0182,  ...,  0.0311,  0.0204, -0.0010],\n",
              "         [-0.0379,  0.0396,  0.0075,  ..., -0.0375, -0.0039, -0.0434]],\n",
              "        device='cuda:0', requires_grad=True), Parameter containing:\n",
              " tensor([-2.4754e-02,  2.3544e-03, -2.0061e-02,  7.7472e-03, -4.3790e-02,\n",
              "         -2.1083e-02, -2.4287e-02, -1.7646e-02, -2.6803e-02, -5.3016e-03,\n",
              "          2.9928e-02,  3.8321e-02, -1.1168e-03, -1.9635e-02,  1.4110e-02,\n",
              "         -2.3848e-02, -4.4621e-03, -1.3451e-02, -3.7206e-02,  3.5173e-02,\n",
              "          3.8051e-02, -4.1389e-03,  3.7847e-02, -1.2676e-02, -1.1216e-02,\n",
              "          2.8872e-02,  3.3033e-02, -3.6279e-03, -1.8960e-02, -3.7147e-02,\n",
              "         -9.5686e-03, -3.3920e-02,  3.6765e-02, -2.0104e-02, -7.6296e-03,\n",
              "         -1.8693e-02,  4.0049e-02,  8.6328e-03,  3.8435e-02, -1.1609e-02,\n",
              "          4.7179e-03, -4.2334e-02,  2.5505e-02,  3.4946e-02, -2.6884e-02,\n",
              "         -1.5325e-02, -2.8997e-02,  7.0260e-03,  3.2922e-02,  3.9645e-03,\n",
              "          4.3397e-02,  2.8988e-02, -8.4299e-03, -3.5051e-02,  3.3052e-02,\n",
              "          3.7217e-02, -8.5060e-04,  3.0523e-02, -2.2880e-02, -3.0656e-02,\n",
              "          1.2451e-02, -3.5158e-02,  2.9592e-02, -8.3758e-03, -1.3207e-02,\n",
              "         -1.1884e-02, -3.6654e-02,  2.5458e-02,  1.8568e-02,  1.8250e-02,\n",
              "          1.9757e-02, -1.7149e-02,  3.2791e-02,  2.4930e-02,  3.6147e-02,\n",
              "          2.6175e-02, -2.9066e-02, -2.3385e-02,  4.3829e-02, -3.3869e-02,\n",
              "          2.0294e-03, -2.0849e-02, -3.3964e-02, -5.4578e-03,  2.7041e-02,\n",
              "         -2.0369e-04, -3.3989e-02, -4.2803e-02, -3.1731e-02,  1.8583e-02,\n",
              "         -3.7702e-02, -1.9701e-02,  5.2788e-04,  3.5926e-02, -3.2824e-02,\n",
              "         -4.0175e-03, -5.9847e-03,  2.1225e-02, -2.4514e-02, -2.3335e-02,\n",
              "         -3.6473e-02, -3.9286e-02, -3.2168e-02,  2.4207e-02,  2.2104e-03,\n",
              "          8.2704e-03, -2.4244e-02, -7.5366e-03, -3.9862e-02, -7.0735e-03,\n",
              "         -2.1319e-02,  6.2109e-04, -2.3987e-03, -2.4454e-02, -3.9704e-02,\n",
              "         -1.2368e-02,  4.2997e-02,  1.1240e-02,  1.0188e-02,  2.6658e-03,\n",
              "          2.5443e-02, -1.3377e-02,  2.7754e-03, -5.5140e-03,  1.8581e-03,\n",
              "         -1.8882e-02, -2.2751e-02,  1.8067e-02,  1.7596e-06,  3.3374e-02,\n",
              "          3.1647e-02,  3.4141e-02,  1.0934e-02,  1.7703e-03, -2.9388e-02,\n",
              "          2.0369e-02, -3.1933e-02, -2.7871e-02,  6.4696e-03, -1.6280e-02,\n",
              "          3.7141e-02,  3.6695e-02,  1.4486e-02,  3.5133e-02, -1.1439e-02,\n",
              "          2.4306e-02,  7.2207e-03, -9.2734e-03, -2.2485e-02,  9.5471e-03,\n",
              "         -1.4866e-02,  2.2866e-02, -1.0791e-02, -3.7582e-02, -3.7216e-03,\n",
              "         -3.3935e-02, -6.3463e-03,  3.2241e-02, -3.4353e-02, -3.8573e-02,\n",
              "         -6.2092e-03, -1.5012e-02,  2.3648e-03, -4.3113e-02, -2.2089e-02,\n",
              "         -2.2545e-02,  4.3474e-02, -1.0240e-02, -1.8898e-02, -1.3068e-02,\n",
              "         -2.0230e-03,  1.9017e-02, -2.0768e-03, -2.2013e-02,  1.1336e-02,\n",
              "          3.0847e-02, -1.3296e-02, -2.8084e-02, -1.8947e-02,  2.3871e-02,\n",
              "          7.2801e-03, -8.2417e-03, -1.7336e-02,  3.4416e-02,  2.2702e-02,\n",
              "         -1.8725e-02, -2.1166e-02,  4.0332e-02, -4.2378e-03,  3.3480e-02,\n",
              "          3.6720e-02, -2.3214e-03,  3.5028e-02, -3.5737e-02, -2.0720e-02,\n",
              "         -2.7298e-02,  3.3648e-02, -6.5323e-03, -2.5208e-02,  1.7013e-02,\n",
              "         -1.6581e-02,  3.5698e-02,  1.0653e-02, -5.2887e-03,  1.6772e-02,\n",
              "         -3.1936e-02, -4.3839e-02,  3.6942e-02,  2.6439e-02, -3.1289e-02,\n",
              "         -7.5308e-03, -2.0098e-02, -2.7422e-02,  2.9146e-02, -3.6759e-02,\n",
              "          9.8234e-03,  9.0635e-03, -9.4955e-03, -3.7252e-02,  2.6253e-02,\n",
              "          2.1490e-02, -3.6778e-02,  2.7840e-02, -3.0279e-02,  2.1655e-02,\n",
              "          1.7621e-02, -1.4975e-02,  3.2430e-03,  3.2658e-02,  3.2732e-02,\n",
              "         -2.2681e-02, -2.4473e-02, -2.2402e-02, -7.6520e-04, -3.5504e-02,\n",
              "          4.3390e-02,  3.8361e-02, -2.6951e-02, -2.1407e-02,  3.9070e-02,\n",
              "          1.6789e-02, -3.8357e-04, -1.9852e-03, -1.5655e-02,  1.7732e-02,\n",
              "         -3.3322e-03,  4.8606e-03, -7.9515e-05, -4.2302e-02, -4.1161e-02,\n",
              "         -2.4644e-02,  2.6479e-02, -3.2672e-02, -4.8154e-03,  3.6991e-03,\n",
              "          4.3984e-02], device='cuda:0', requires_grad=True), Parameter containing:\n",
              " tensor([[ 0.0027,  0.0276, -0.0089,  ..., -0.0031,  0.0503, -0.0227],\n",
              "         [-0.0116, -0.0414,  0.0230,  ..., -0.0465,  0.0101, -0.0412],\n",
              "         [ 0.0495,  0.0256, -0.0561,  ...,  0.0154, -0.0063, -0.0141],\n",
              "         ...,\n",
              "         [-0.0332, -0.0454,  0.0260,  ...,  0.0384,  0.0450, -0.0398],\n",
              "         [ 0.0125, -0.0426,  0.0322,  ...,  0.0140,  0.0563, -0.0545],\n",
              "         [ 0.0289,  0.0412,  0.0295,  ..., -0.0277,  0.0617,  0.0404]],\n",
              "        device='cuda:0', requires_grad=True), Parameter containing:\n",
              " tensor([ 0.0152, -0.0328, -0.0140,  0.0468,  0.0276,  0.0517,  0.0343, -0.0415,\n",
              "         -0.0171, -0.0526, -0.0390,  0.0110,  0.0595, -0.0620, -0.0223,  0.0497,\n",
              "         -0.0200,  0.0547, -0.0127, -0.0386,  0.0123, -0.0564, -0.0242,  0.0012,\n",
              "         -0.0551, -0.0059,  0.0571, -0.0134,  0.0081, -0.0565, -0.0490, -0.0381,\n",
              "          0.0006,  0.0619, -0.0008,  0.0422,  0.0312,  0.0027,  0.0510,  0.0562,\n",
              "          0.0522, -0.0575,  0.0196,  0.0521,  0.0148, -0.0070,  0.0417,  0.0550,\n",
              "          0.0478,  0.0134,  0.0023,  0.0454, -0.0523,  0.0290, -0.0216,  0.0171,\n",
              "         -0.0195, -0.0213, -0.0472, -0.0295,  0.0436,  0.0577, -0.0244,  0.0601,\n",
              "          0.0013, -0.0419,  0.0406,  0.0499, -0.0198,  0.0039, -0.0252, -0.0265,\n",
              "          0.0201,  0.0015,  0.0584,  0.0096, -0.0306,  0.0292, -0.0511,  0.0046,\n",
              "         -0.0230,  0.0360,  0.0580,  0.0431, -0.0249,  0.0473,  0.0194, -0.0020,\n",
              "         -0.0318,  0.0317, -0.0128, -0.0394, -0.0591,  0.0186, -0.0172, -0.0039,\n",
              "          0.0217, -0.0561, -0.0312,  0.0578,  0.0185,  0.0226, -0.0157,  0.0466,\n",
              "          0.0270,  0.0058, -0.0427,  0.0328,  0.0009, -0.0508,  0.0116, -0.0341,\n",
              "         -0.0560,  0.0334,  0.0122, -0.0548, -0.0100, -0.0134, -0.0310, -0.0379,\n",
              "          0.0382, -0.0345, -0.0384, -0.0314,  0.0110, -0.0027, -0.0011,  0.0426],\n",
              "        device='cuda:0', requires_grad=True), Parameter containing:\n",
              " tensor([[-0.0810,  0.0513,  0.0862,  ...,  0.0808, -0.0036,  0.0848],\n",
              "         [-0.0620,  0.0635, -0.0360,  ...,  0.0171,  0.0666,  0.0148],\n",
              "         [-0.0758,  0.0290, -0.0255,  ..., -0.0310, -0.0345, -0.0525],\n",
              "         ...,\n",
              "         [ 0.0047, -0.0100,  0.0087,  ...,  0.0619, -0.0451, -0.0836],\n",
              "         [-0.0261, -0.0852, -0.0714,  ..., -0.0283, -0.0499,  0.0247],\n",
              "         [ 0.0286,  0.0871,  0.0031,  ..., -0.0381,  0.0757,  0.0273]],\n",
              "        device='cuda:0', requires_grad=True), Parameter containing:\n",
              " tensor([ 0.0674,  0.0587, -0.0397,  0.0738,  0.0554, -0.0005,  0.0559, -0.0448,\n",
              "          0.0639, -0.0187, -0.0181, -0.0045,  0.0685, -0.0247,  0.0521,  0.0271,\n",
              "          0.0562,  0.0682,  0.0780, -0.0180,  0.0727,  0.0818,  0.0403,  0.0513,\n",
              "         -0.0782,  0.0421,  0.0264,  0.0157, -0.0229,  0.0412, -0.0476,  0.0848,\n",
              "         -0.0559, -0.0650,  0.0838, -0.0480, -0.0711,  0.0485,  0.0032, -0.0290,\n",
              "          0.0235,  0.0128,  0.0361, -0.0362,  0.0392, -0.0085, -0.0739, -0.0376,\n",
              "         -0.0343, -0.0122,  0.0616, -0.0413,  0.0260, -0.0399, -0.0758,  0.0285,\n",
              "         -0.0871,  0.0151,  0.0525,  0.0454, -0.0182, -0.0844, -0.0409,  0.0193,\n",
              "          0.0217, -0.0664, -0.0383, -0.0194,  0.0721, -0.0859,  0.0320,  0.0164,\n",
              "         -0.0022, -0.0409, -0.0406,  0.0052,  0.0186,  0.0074, -0.0821, -0.0828,\n",
              "         -0.0594, -0.0209,  0.0857,  0.0351,  0.0557, -0.0212,  0.0621,  0.0399,\n",
              "         -0.0377,  0.0469,  0.0245, -0.0715, -0.0142,  0.0591, -0.0637,  0.0507,\n",
              "         -0.0202, -0.0295, -0.0047,  0.0055], device='cuda:0',\n",
              "        requires_grad=True)]"
            ]
          },
          "metadata": {},
          "execution_count": 103
        }
      ]
    },
    {
      "cell_type": "code",
      "metadata": {
        "colab": {
          "base_uri": "https://localhost:8080/"
        },
        "id": "B7ntBZAmRY6Q",
        "outputId": "6d8cc0cc-4c3f-489d-fed5-5d0245288d71"
      },
      "source": [
        "epochs = 20\n",
        "for t in range(epochs):\n",
        "    print(f\"Epoch {t+1}\\-------------------------------\")\n",
        "    train(big_train_loader, model, loss_fn, optimizer)\n",
        "    test(test_loader, model, loss_fn)\n",
        "print(\"Done!\")"
      ],
      "execution_count": 104,
      "outputs": [
        {
          "output_type": "stream",
          "name": "stdout",
          "text": [
            "Epoch 1\\-------------------------------\n",
            "loss: 4.602438  [    0/80000]\n",
            "loss: 4.548287  [12800/80000]\n",
            "loss: 3.832710  [25600/80000]\n",
            "loss: 3.316126  [38400/80000]\n",
            "loss: 3.097594  [51200/80000]\n",
            "loss: 2.916045  [64000/80000]\n",
            "loss: 2.582769  [76800/80000]\n",
            "Test Error: \n",
            " Accuracy: 4.8%, Avg loss: 8.917118 \n",
            "\n",
            "Epoch 2\\-------------------------------\n",
            "loss: 2.740299  [    0/80000]\n",
            "loss: 2.861262  [12800/80000]\n",
            "loss: 2.594682  [25600/80000]\n",
            "loss: 2.676989  [38400/80000]\n",
            "loss: 2.993343  [51200/80000]\n",
            "loss: 2.719795  [64000/80000]\n",
            "loss: 2.911940  [76800/80000]\n",
            "Test Error: \n",
            " Accuracy: 5.4%, Avg loss: 10.819133 \n",
            "\n",
            "Epoch 3\\-------------------------------\n",
            "loss: 2.593208  [    0/80000]\n",
            "loss: 2.562203  [12800/80000]\n",
            "loss: 2.486384  [25600/80000]\n",
            "loss: 2.410337  [38400/80000]\n",
            "loss: 2.431212  [51200/80000]\n",
            "loss: 2.502540  [64000/80000]\n",
            "loss: 2.527037  [76800/80000]\n",
            "Test Error: \n",
            " Accuracy: 5.4%, Avg loss: 10.727769 \n",
            "\n",
            "Epoch 4\\-------------------------------\n",
            "loss: 2.304221  [    0/80000]\n",
            "loss: 2.671883  [12800/80000]\n",
            "loss: 2.361140  [25600/80000]\n",
            "loss: 2.405539  [38400/80000]\n",
            "loss: 2.386295  [51200/80000]\n",
            "loss: 2.640790  [64000/80000]\n",
            "loss: 2.612672  [76800/80000]\n",
            "Test Error: \n",
            " Accuracy: 5.2%, Avg loss: 11.357308 \n",
            "\n",
            "Epoch 5\\-------------------------------\n",
            "loss: 2.337285  [    0/80000]\n",
            "loss: 2.644179  [12800/80000]\n",
            "loss: 2.446457  [25600/80000]\n",
            "loss: 2.634223  [38400/80000]\n",
            "loss: 2.442880  [51200/80000]\n",
            "loss: 2.226740  [64000/80000]\n",
            "loss: 2.488447  [76800/80000]\n",
            "Test Error: \n",
            " Accuracy: 4.9%, Avg loss: 11.570835 \n",
            "\n",
            "Epoch 6\\-------------------------------\n",
            "loss: 2.389976  [    0/80000]\n",
            "loss: 2.382077  [12800/80000]\n",
            "loss: 2.399534  [25600/80000]\n",
            "loss: 2.677659  [38400/80000]\n",
            "loss: 2.692338  [51200/80000]\n",
            "loss: 2.285610  [64000/80000]\n",
            "loss: 2.320606  [76800/80000]\n",
            "Test Error: \n",
            " Accuracy: 4.9%, Avg loss: 11.159447 \n",
            "\n",
            "Epoch 7\\-------------------------------\n",
            "loss: 2.359780  [    0/80000]\n",
            "loss: 2.446375  [12800/80000]\n",
            "loss: 2.205410  [25600/80000]\n",
            "loss: 2.617894  [38400/80000]\n",
            "loss: 2.524809  [51200/80000]\n",
            "loss: 2.184250  [64000/80000]\n",
            "loss: 2.206536  [76800/80000]\n",
            "Test Error: \n",
            " Accuracy: 4.2%, Avg loss: 12.474412 \n",
            "\n",
            "Epoch 8\\-------------------------------\n",
            "loss: 2.106988  [    0/80000]\n",
            "loss: 2.390610  [12800/80000]\n",
            "loss: 2.363828  [25600/80000]\n",
            "loss: 2.334733  [38400/80000]\n",
            "loss: 2.419177  [51200/80000]\n",
            "loss: 2.297995  [64000/80000]\n",
            "loss: 2.312017  [76800/80000]\n",
            "Test Error: \n",
            " Accuracy: 4.7%, Avg loss: 11.724679 \n",
            "\n",
            "Epoch 9\\-------------------------------\n",
            "loss: 2.449176  [    0/80000]\n",
            "loss: 2.405274  [12800/80000]\n",
            "loss: 2.281879  [25600/80000]\n",
            "loss: 2.356862  [38400/80000]\n",
            "loss: 2.226847  [51200/80000]\n",
            "loss: 2.267182  [64000/80000]\n",
            "loss: 2.357931  [76800/80000]\n",
            "Test Error: \n",
            " Accuracy: 4.8%, Avg loss: 11.964145 \n",
            "\n",
            "Epoch 10\\-------------------------------\n",
            "loss: 2.504899  [    0/80000]\n",
            "loss: 2.553959  [12800/80000]\n",
            "loss: 2.278085  [25600/80000]\n",
            "loss: 2.116915  [38400/80000]\n",
            "loss: 2.313768  [51200/80000]\n",
            "loss: 2.127091  [64000/80000]\n",
            "loss: 2.242506  [76800/80000]\n",
            "Test Error: \n",
            " Accuracy: 4.7%, Avg loss: 12.544816 \n",
            "\n",
            "Epoch 11\\-------------------------------\n",
            "loss: 2.263361  [    0/80000]\n",
            "loss: 2.312424  [12800/80000]\n",
            "loss: 2.379696  [25600/80000]\n",
            "loss: 2.216300  [38400/80000]\n",
            "loss: 2.164936  [51200/80000]\n",
            "loss: 2.009867  [64000/80000]\n",
            "loss: 2.299308  [76800/80000]\n",
            "Test Error: \n",
            " Accuracy: 5.2%, Avg loss: 12.586873 \n",
            "\n",
            "Epoch 12\\-------------------------------\n",
            "loss: 2.360697  [    0/80000]\n",
            "loss: 2.232733  [12800/80000]\n",
            "loss: 2.130205  [25600/80000]\n",
            "loss: 2.526206  [38400/80000]\n",
            "loss: 2.313056  [51200/80000]\n",
            "loss: 2.311361  [64000/80000]\n",
            "loss: 2.221476  [76800/80000]\n",
            "Test Error: \n",
            " Accuracy: 4.7%, Avg loss: 12.328571 \n",
            "\n",
            "Epoch 13\\-------------------------------\n",
            "loss: 2.360968  [    0/80000]\n",
            "loss: 2.652120  [12800/80000]\n",
            "loss: 2.221317  [25600/80000]\n",
            "loss: 2.310408  [38400/80000]\n",
            "loss: 2.079789  [51200/80000]\n",
            "loss: 2.433015  [64000/80000]\n",
            "loss: 2.181006  [76800/80000]\n",
            "Test Error: \n",
            " Accuracy: 4.5%, Avg loss: 12.553447 \n",
            "\n",
            "Epoch 14\\-------------------------------\n",
            "loss: 2.345316  [    0/80000]\n",
            "loss: 2.157239  [12800/80000]\n",
            "loss: 2.150832  [25600/80000]\n",
            "loss: 2.357235  [38400/80000]\n",
            "loss: 2.312055  [51200/80000]\n",
            "loss: 2.265644  [64000/80000]\n",
            "loss: 2.527856  [76800/80000]\n",
            "Test Error: \n",
            " Accuracy: 4.6%, Avg loss: 12.673364 \n",
            "\n",
            "Epoch 15\\-------------------------------\n",
            "loss: 2.327435  [    0/80000]\n",
            "loss: 2.185751  [12800/80000]\n",
            "loss: 2.319996  [25600/80000]\n",
            "loss: 2.229106  [38400/80000]\n",
            "loss: 2.207372  [51200/80000]\n",
            "loss: 2.139097  [64000/80000]\n",
            "loss: 2.148851  [76800/80000]\n",
            "Test Error: \n",
            " Accuracy: 5.0%, Avg loss: 11.942326 \n",
            "\n",
            "Epoch 16\\-------------------------------\n",
            "loss: 2.405839  [    0/80000]\n",
            "loss: 2.539060  [12800/80000]\n",
            "loss: 2.400166  [25600/80000]\n",
            "loss: 2.217577  [38400/80000]\n",
            "loss: 2.068493  [51200/80000]\n",
            "loss: 2.382360  [64000/80000]\n",
            "loss: 2.271142  [76800/80000]\n",
            "Test Error: \n",
            " Accuracy: 4.7%, Avg loss: 12.487837 \n",
            "\n",
            "Epoch 17\\-------------------------------\n",
            "loss: 2.343151  [    0/80000]\n",
            "loss: 2.363671  [12800/80000]\n",
            "loss: 2.364099  [25600/80000]\n",
            "loss: 2.352198  [38400/80000]\n",
            "loss: 2.197237  [51200/80000]\n",
            "loss: 2.385353  [64000/80000]\n",
            "loss: 2.348669  [76800/80000]\n",
            "Test Error: \n",
            " Accuracy: 5.0%, Avg loss: 13.178869 \n",
            "\n",
            "Epoch 18\\-------------------------------\n",
            "loss: 1.973337  [    0/80000]\n",
            "loss: 2.394322  [12800/80000]\n",
            "loss: 2.310146  [25600/80000]\n",
            "loss: 2.386403  [38400/80000]\n",
            "loss: 2.342633  [51200/80000]\n",
            "loss: 2.291461  [64000/80000]\n",
            "loss: 2.261514  [76800/80000]\n",
            "Test Error: \n",
            " Accuracy: 4.8%, Avg loss: 12.929556 \n",
            "\n",
            "Epoch 19\\-------------------------------\n",
            "loss: 2.381267  [    0/80000]\n",
            "loss: 2.259921  [12800/80000]\n",
            "loss: 2.298259  [25600/80000]\n",
            "loss: 2.425380  [38400/80000]\n",
            "loss: 1.991372  [51200/80000]\n",
            "loss: 2.109418  [64000/80000]\n",
            "loss: 2.449291  [76800/80000]\n",
            "Test Error: \n",
            " Accuracy: 4.7%, Avg loss: 13.084708 \n",
            "\n",
            "Epoch 20\\-------------------------------\n",
            "loss: 2.423782  [    0/80000]\n",
            "loss: 2.173344  [12800/80000]\n",
            "loss: 2.285634  [25600/80000]\n",
            "loss: 2.422057  [38400/80000]\n",
            "loss: 2.109679  [51200/80000]\n",
            "loss: 2.110324  [64000/80000]\n",
            "loss: 2.377938  [76800/80000]\n",
            "Test Error: \n",
            " Accuracy: 5.0%, Avg loss: 12.521007 \n",
            "\n",
            "Done!\n"
          ]
        }
      ]
    },
    {
      "cell_type": "code",
      "metadata": {
        "id": "uZx2081rSNuO"
      },
      "source": [
        ""
      ],
      "execution_count": null,
      "outputs": []
    }
  ]
}